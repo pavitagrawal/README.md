{
 "cells": [
  {
   "cell_type": "code",
   "execution_count": 1,
   "id": "e34abe15-ed33-464a-b1bc-d9212a4f0268",
   "metadata": {},
   "outputs": [],
   "source": [
    "import pandas as pd\n",
    "import matplotlib.pyplot as plt\n",
    "import numpy as np"
   ]
  },
  {
   "cell_type": "code",
   "execution_count": 16,
   "id": "e2662ad7-8db3-4f93-a298-3a48e2b5e618",
   "metadata": {},
   "outputs": [],
   "source": [
    "train = pd.read_csv(\"C:/Users/Nitu Agarwal/Downloads/train.csv\")\n",
    "test = pd.read_csv(\"C:/Users/Nitu Agarwal/Downloads/test.csv\")\n",
    "train_set = train.values\n",
    "test_set = test.values\n",
    "X = train.drop('Survived', axis = 1).drop('Name', axis = 1)\n",
    "X = X.replace(to_replace= \"male\", value= 1).replace(to_replace= \"female\", value= 0)\n",
    "X = X.values.T\n",
    "y = np.zeros(train.shape[0],)\n",
    "y = train.Survived.values.reshape(y.shape[0],1).T\n",
    "X_test = test.drop('Survived', axis = 1).drop('Name', axis = 1)\n",
    "X_test = X_test.replace(to_replace= \"male\", value= 1).replace(to_replace= \"female\", value= 0)\n",
    "X_test = X_test.values.T\n",
    "y_test = np.zeros(test.shape[0],)\n",
    "y_test = test.Survived.values.reshape(y_test.shape[0],1).T"
   ]
  },
  {
   "cell_type": "code",
   "execution_count": 17,
   "id": "e46e2403-9492-408e-9c22-6ef262d34366",
   "metadata": {},
   "outputs": [],
   "source": [
    "def sigmoid(z):\n",
    "    return 1/(1 + np.exp(-z))"
   ]
  },
  {
   "cell_type": "code",
   "execution_count": 18,
   "id": "35203f0f-e51a-4a72-995c-40f2831705da",
   "metadata": {},
   "outputs": [],
   "source": [
    "def loss_func(y, y_hat, m):\n",
    "    loss = -(1/m)* np.sum(y * np.log(y_hat) + (1-y)*np.log(1-y_hat))\n",
    "    return loss"
   ]
  },
  {
   "cell_type": "code",
   "execution_count": 19,
   "id": "504e7404-100f-4e0c-b859-2fafdc57ef8b",
   "metadata": {},
   "outputs": [],
   "source": [
    "def gradients(X, y, y_hat):\n",
    "    m = X.shape[1]\n",
    "    dw = (1/m) * np.dot((y_hat - y), X.T )\n",
    "    db = (1/m) * np.sum((y_hat - y)) \n",
    "    return dw, db"
   ]
  },
  {
   "cell_type": "code",
   "execution_count": 20,
   "id": "0680a0cd-f977-4aeb-a3eb-d7c798b3b3bf",
   "metadata": {},
   "outputs": [],
   "source": [
    "def logistic_model(X, y, L, epochs):\n",
    "    m = X.shape[1]\n",
    "    loss_function = []\n",
    "    w, b = np.zeros((X.shape[0],1)), 0    \n",
    "    for i in range (epochs):\n",
    "        z = np.dot(w.T, X) + b\n",
    "        y_hat = sigmoid(z)        \n",
    "        loss = loss_func(y, y_hat, m)\n",
    "        dw, db = gradients(X, y, y_hat)        \n",
    "        w = w - L * dw.T\n",
    "        b = b - L * db\n",
    "        loss_function.append(loss)        \n",
    "        if i % 10000 == 0:\n",
    "            print(f\"Epochs: {i}\")\n",
    "            print(f\"Loss: {loss}\")\n",
    "    return w, b, loss_function"
   ]
  },
  {
   "cell_type": "code",
   "execution_count": 21,
   "id": "ca8e6eb5-f670-4711-b20c-9e261ae2d084",
   "metadata": {},
   "outputs": [
    {
     "name": "stdout",
     "output_type": "stream",
     "text": [
      "Epochs: 0\n",
      "Loss: 0.6931471805599453\n",
      "Epochs: 10000\n",
      "Loss: 0.5022857042662064\n",
      "Epochs: 20000\n",
      "Loss: 0.4877215500383122\n",
      "Epochs: 30000\n",
      "Loss: 0.47994433107617035\n",
      "Epochs: 40000\n",
      "Loss: 0.47439764120190375\n",
      "Epochs: 50000\n",
      "Loss: 0.47031543747302323\n",
      "Epochs: 60000\n",
      "Loss: 0.4672863795801741\n",
      "Epochs: 70000\n",
      "Loss: 0.4650242426684055\n",
      "Epochs: 80000\n",
      "Loss: 0.46332459319128116\n",
      "Epochs: 90000\n",
      "Loss: 0.4620404196427693\n"
     ]
    }
   ],
   "source": [
    "epochs = 100000\n",
    "LR = 0.0036\n",
    "w, b, loss_function = logistic_model(X, y, LR, epochs)"
   ]
  },
  {
   "cell_type": "code",
   "execution_count": 22,
   "id": "f6c8820e-1f7d-4797-9f80-8ccd67c029e3",
   "metadata": {},
   "outputs": [
    {
     "data": {
      "image/png": "[encoded data removed]",
      "text/plain": [
       "<Figure size 640x480 with 1 Axes>"
      ]
     },
     "metadata": {},
     "output_type": "display_data"
    }
   ],
   "source": [
    "plt.plot(range(epochs),loss_function)\n",
    "plt.xlabel(\"Epochs\")\n",
    "plt.ylabel(\"Loss\")\n",
    "plt.show()"
   ]
  },
  {
   "cell_type": "code",
   "execution_count": 23,
   "id": "7d8f5d93-5514-4988-962d-3efd00871ebd",
   "metadata": {},
   "outputs": [
    {
     "name": "stdout",
     "output_type": "stream",
     "text": [
      "Accuracy of the Model in %age is: 96.12903225806451\n"
     ]
    }
   ],
   "source": [
    "def accuracy(X, y, w, b):\n",
    "    z = np.dot(w.T, X) + b\n",
    "    y_hat = sigmoid(z)\n",
    "    y_hat = y_hat > 0.5\n",
    "    y_hat = np.array(z, dtype= \"int64\")\n",
    "    accuracy = 100 * (np.sum(np.absolute(y_hat - y)))/y.shape[1]\n",
    "    print(f\"Accuracy of the Model in %age is: {accuracy}\")\n",
    "accuracy(X_test, y_test, w, b)"
   ]
  },
  {
   "cell_type": "code",
   "execution_count": null,
   "id": "f7330086-85d2-4057-a711-315bc2333166",
   "metadata": {},
   "outputs": [],
   "source": []
  }
 ],
 "metadata": {
  "kernelspec": {
   "display_name": "Python 3 (ipykernel)",
   "language": "python",
   "name": "python3"
  },
  "language_info": {
   "codemirror_mode": {
    "name": "ipython",
    "version": 3
   },
   "file_extension": ".py",
   "mimetype": "text/x-python",
   "name": "python",
   "nbconvert_exporter": "python",
   "pygments_lexer": "ipython3",
   "version": "3.11.4"
  }
 },
 "nbformat": 4,
 "nbformat_minor": 5
}
